{
  "nbformat": 4,
  "nbformat_minor": 0,
  "metadata": {
    "colab": {
      "provenance": []
    },
    "kernelspec": {
      "name": "python3",
      "display_name": "Python 3"
    },
    "language_info": {
      "name": "python"
    }
  },
  "cells": [
    {
      "cell_type": "code",
      "execution_count": 5,
      "metadata": {
        "colab": {
          "base_uri": "https://localhost:8080/"
        },
        "id": "unamk9MQXqr-",
        "outputId": "c5f24d1b-8865-43de-b494-29bffb4701df"
      },
      "outputs": [
        {
          "output_type": "stream",
          "name": "stdout",
          "text": [
            "Quantity: 8, Discount: 0%\n",
            "Quantity: 15, Discount: 15%\n",
            "Quantity: 25, Discount: 20%\n",
            "Double the number of 15 = 30\n",
            "Triple the number of 15 = 45\n",
            "Quadruple the number of 15 = 60\n",
            "Quintuple the number 15 = 75\n",
            "Adult Tickets: [202, 404, 606, 808]\n",
            "Child Tickets: [101, 303, 505, 707]\n"
          ]
        }
      ],
      "source": [
        "class Item:\n",
        "    def __init__(self, Qty):\n",
        "        self.Qty = Qty\n",
        "        self.Discount = 0\n",
        "\n",
        "    def FindDisc(self):\n",
        "        if self.Qty <= 10:\n",
        "            self.Discount = 0\n",
        "        elif 11 <= self.Qty < 20:\n",
        "            self.Discount = 15\n",
        "        elif self.Qty >= 20:\n",
        "            self.Discount = 20\n",
        "\n",
        "item1 = Item(8)\n",
        "item1.FindDisc()\n",
        "print(f\"Quantity: {item1.Qty}, Discount: {item1.Discount}%\")\n",
        "\n",
        "item2 = Item(15)\n",
        "item2.FindDisc()\n",
        "print(f\"Quantity: {item2.Qty}, Discount: {item2.Discount}%\")\n",
        "\n",
        "item3 = Item(25)\n",
        "item3.FindDisc()\n",
        "print(f\"Quantity: {item3.Qty}, Discount: {item3.Discount}%\")\n",
        "\n",
        "\n",
        "def multiplier(n):\n",
        "    def multiply(x):\n",
        "        return n * x\n",
        "    return multiply\n",
        "\n",
        "double = multiplier(2)\n",
        "triple = multiplier(3)\n",
        "quadruple = multiplier(4)\n",
        "quintuple = multiplier(5)\n",
        "\n",
        "number = 15\n",
        "\n",
        "print(\"Double the number of\", number, \"=\", double(number))\n",
        "print(\"Triple the number of\", number, \"=\", triple(number))\n",
        "print(\"Quadruple the number of\", number, \"=\", quadruple(number))\n",
        "print(\"Quintuple the number\", number, \"=\", quintuple(number))\n",
        "\n",
        "\n",
        "ticket_ids = [101, 202, 303, 404, 505, 606, 707, 808]\n",
        "\n",
        "adult_tickets = list(filter(lambda x: x % 2 == 0, ticket_ids))\n",
        "child_tickets = list(filter(lambda x: x % 2 != 0, ticket_ids))\n",
        "\n",
        "print(\"Adult Tickets:\", adult_tickets)\n",
        "print(\"Child Tickets:\", child_tickets)\n",
        "\n",
        "\n",
        "\n",
        "\n",
        "\n",
        ""
      ]
    }
  ]
}