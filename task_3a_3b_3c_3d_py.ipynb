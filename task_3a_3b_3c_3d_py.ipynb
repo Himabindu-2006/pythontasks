{
  "nbformat": 4,
  "nbformat_minor": 0,
  "metadata": {
    "colab": {
      "provenance": [],
      "authorship_tag": "ABX9TyOckJML44c73e18xXD4DMP/",
      "include_colab_link": true
    },
    "kernelspec": {
      "name": "python3",
      "display_name": "Python 3"
    },
    "language_info": {
      "name": "python"
    }
  },
  "cells": [
    {
      "cell_type": "markdown",
      "metadata": {
        "id": "view-in-github",
        "colab_type": "text"
      },
      "source": [
        "<a href=\"https://colab.research.google.com/github/Himabindu-2006/pythontasks/blob/main/task_3a_3b_3c_3d_py.ipynb\" target=\"_parent\"><img src=\"https://colab.research.google.com/assets/colab-badge.svg\" alt=\"Open In Colab\"/></a>"
      ]
    },
    {
      "cell_type": "code",
      "execution_count": null,
      "metadata": {
        "id": "cEH-WFBi5R3G"
      },
      "outputs": [],
      "source": [
        "import datetime\n",
        "\n",
        "month, day, year = map(int, input().split())\n",
        "date = datetime.date(year, month, day)\n",
        "print(date.strftime(\"%A\").upper())\n",
        "\n",
        "\n",
        "x = int(input())\n",
        "n = len(str(x))\n",
        "sum_of_powers = sum(int(digit) ** n for digit in str(x))\n",
        "\n",
        "if sum_of_powers == x:\n",
        "    print(f\"{x} is an Armstrong number\")\n",
        "else:\n",
        "    print(f\"{x} is not an Armstrong number\")\n",
        "\n",
        "\n",
        "import math\n",
        "\n",
        "x1, x2 = map(int, input(\"Enter coordinates of point X (x1 x2): \").split())\n",
        "y1, y2 = map(int, input(\"Enter coordinates of point Y (y1 y2): \").split())\n",
        "\n",
        "distance = math.sqrt((x1 - y1) ** 2 + (x2 - y2) ** 2)\n",
        "print(int(distance))\n",
        "\n",
        "\n",
        "\n",
        "from .welcome import display_welcome\n",
        "from .add import add_numbers\n",
        "def display_welcome():\n",
        "    print(\"Welcome to the Greetings package!\")\n",
        "def add_numbers(a, b):\n",
        "    return a + b\n",
        "\n",
        "\n",
        "binaries = input().split(',')\n",
        "\n",
        "result = []\n",
        "\n",
        "for binary in binaries:\n",
        "    # Convert binary string to integer\n",
        "    num = int(binary, 2)\n",
        "    if num % 6 == 0:\n",
        "        result.append(binary)\n",
        "\n",
        "print(\",\".join(result))\n",
        "\n",
        "\n",
        "\n",
        "numbers = list(map(int, input(\"Enter numbers separated by space: \").split()))\n",
        "\n",
        "even_count = 0\n",
        "odd_count = 0\n",
        "\n",
        "for num in numbers:\n",
        "    if num % 2 == 0:\n",
        "        even_count += 1\n",
        "    else:\n",
        "        odd_count += 1\n",
        "\n",
        "print(\"Even numbers count:\", even_count)\n",
        "print(\"Odd numbers count:\", odd_count)\n",
        "\n",
        "\n",
        "\n"
      ]
    }
  ]
}