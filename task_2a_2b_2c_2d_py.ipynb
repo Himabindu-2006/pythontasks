{
  "nbformat": 4,
  "nbformat_minor": 0,
  "metadata": {
    "colab": {
      "provenance": [],
      "authorship_tag": "ABX9TyOGZPZQ/bR8L3XQ1x0MvD+4",
      "include_colab_link": true
    },
    "kernelspec": {
      "name": "python3",
      "display_name": "Python 3"
    },
    "language_info": {
      "name": "python"
    }
  },
  "cells": [
    {
      "cell_type": "markdown",
      "metadata": {
        "id": "view-in-github",
        "colab_type": "text"
      },
      "source": [
        "<a href=\"https://colab.research.google.com/github/Himabindu-2006/pythontasks/blob/main/task_2a_2b_2c_2d_py.ipynb\" target=\"_parent\"><img src=\"https://colab.research.google.com/assets/colab-badge.svg\" alt=\"Open In Colab\"/></a>"
      ]
    },
    {
      "cell_type": "code",
      "execution_count": null,
      "metadata": {
        "id": "zJUMsLVQ7ofA"
      },
      "outputs": [],
      "source": [
        "import random\n",
        "\n",
        "number_to_guess = random.randint(1, 9)\n",
        "\n",
        "while True:\n",
        "    guess = int(input(\"Guess a number between 1 and 9: \"))\n",
        "    if guess == number_to_guess:\n",
        "        print(\"Well guessed!\")\n",
        "        break\n",
        "\n",
        "\n",
        "for i in range(1, 51):\n",
        "    if i % 3 == 0 and i % 5 == 0:\n",
        "        print(\"FizzBuzz\")\n",
        "    elif i % 3 == 0:\n",
        "        print(\"Fizz\")\n",
        "    elif i % 5 == 0:\n",
        "        print(\"Buzz\")\n",
        "    else:\n",
        "        print(i)\n",
        "\n",
        "\n",
        "def divisible_by_6(binary_sequence):\n",
        "    # Split input string by comma\n",
        "    numbers = binary_sequence.split(',')\n",
        "\n",
        "    result = []\n",
        "    for binary_num in numbers:\n",
        "        decimal_num = int(binary_num, 2)\n",
        "        if decimal_num % 6 == 0:\n",
        "            result.append(binary_num)\n",
        "\n",
        "    # Join the result with commas\n",
        "    return ','.join(result)\n",
        "\n",
        "# Example usage\n",
        "input_sequence = \"1010,1100,0110,0000,1001\"\n",
        "print(divisible_by_6(input_sequence))  # Output should be \"1100,0110,0000\"\n",
        "\n",
        "\n",
        "# Input: comma-separated integers\n",
        "numbers = list(map(int, input(\"Enter a sequence of numbers separated by commas: \").split(',')))\n",
        "\n",
        "even_count = sum(1 for num in numbers if num % 2 == 0)\n",
        "odd_count = len(numbers) - even_count\n",
        "\n",
        "print(f\"Even numbers count: {even_count}\")\n",
        "print(f\"Odd numbers count: {odd_count}\")\n",
        "\n",
        "\n",
        "\n",
        "\n",
        "\n",
        "\n",
        "\n",
        "\n",
        "\n",
        "\n",
        "\n",
        "\n",
        "\n"
      ]
    }
  ]
}