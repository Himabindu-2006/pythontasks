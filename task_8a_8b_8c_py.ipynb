{
  "nbformat": 4,
  "nbformat_minor": 0,
  "metadata": {
    "colab": {
      "provenance": [],
      "authorship_tag": "ABX9TyNVN0MBBB9hoIkeVaQNB0sw",
      "include_colab_link": true
    },
    "kernelspec": {
      "name": "python3",
      "display_name": "Python 3"
    },
    "language_info": {
      "name": "python"
    }
  },
  "cells": [
    {
      "cell_type": "markdown",
      "metadata": {
        "id": "view-in-github",
        "colab_type": "text"
      },
      "source": [
        "<a href=\"https://colab.research.google.com/github/Himabindu-2006/pythontasks/blob/main/task_8a_8b_8c_py.ipynb\" target=\"_parent\"><img src=\"https://colab.research.google.com/assets/colab-badge.svg\" alt=\"Open In Colab\"/></a>"
      ]
    },
    {
      "cell_type": "code",
      "execution_count": 3,
      "metadata": {
        "colab": {
          "base_uri": "https://localhost:8080/"
        },
        "id": "wNFZZ-jMQ7c-",
        "outputId": "e3df28dd-adc3-4cd9-fe95-d3b7fa510af8"
      },
      "outputs": [
        {
          "output_type": "stream",
          "name": "stdout",
          "text": [
            "0\n",
            "1\n",
            "1\n",
            "2\n",
            "3\n",
            "5\n",
            "8\n",
            "13\n",
            "21\n",
            "34\n",
            "55\n",
            "89\n",
            "144\n",
            "233\n",
            "377\n",
            "610\n",
            "987\n",
            "1597\n",
            "2584\n",
            "4181\n",
            "6765\n",
            "10946\n",
            "17711\n",
            "28657\n",
            "46368\n",
            "0\n",
            "1\n",
            "4\n",
            "9\n",
            "16\n",
            "Performing operation:\n",
            "Result: 15\n",
            "Performing operation:\n",
            "Result: 5\n",
            "Performing operation:\n",
            "Result: 50\n",
            "Performing operation:\n",
            "Result: 2.0\n"
          ]
        },
        {
          "output_type": "execute_result",
          "data": {
            "text/plain": [
              "2.0"
            ]
          },
          "metadata": {},
          "execution_count": 3
        }
      ],
      "source": [
        "def fibonacci_series(n):\n",
        "    a, b = 0, 1\n",
        "    for _ in range(n):\n",
        "        yield a\n",
        "        a, b = b, a + b\n",
        "\n",
        "for num in fibonacci_series(25):\n",
        "    print(num)\n",
        "\n",
        "\n",
        "def square_numbers():\n",
        "    for i in range(5):\n",
        "        yield i * i\n",
        "\n",
        "squares = square_numbers()\n",
        "\n",
        "for num in squares:\n",
        "    print(num)\n",
        "\n",
        "\n",
        "def decorate_operation(func):\n",
        "    def wrapper(a, b):\n",
        "        print(\"Performing operation:\")\n",
        "        result = func(a, b)\n",
        "        print(\"Result:\", result)\n",
        "        return result\n",
        "    return wrapper\n",
        "\n",
        "@decorate_operation\n",
        "def add(a, b):\n",
        "    return a + b\n",
        "\n",
        "@decorate_operation\n",
        "def subtract(a, b):\n",
        "    return a - b\n",
        "\n",
        "@decorate_operation\n",
        "def multiply(a, b):\n",
        "    return a * b\n",
        "\n",
        "@decorate_operation\n",
        "def divide(a, b):\n",
        "    if b != 0:\n",
        "        return a / b\n",
        "    else:\n",
        "        return \"Cannot divide by zero\"\n",
        "\n",
        "add(10, 5)\n",
        "subtract(10, 5)\n",
        "multiply(10, 5)\n",
        "divide(10, 5)\n",
        "\n",
        "\n",
        "\n",
        "\n"
      ]
    }
  ]
}