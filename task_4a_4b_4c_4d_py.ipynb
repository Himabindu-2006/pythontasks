{
  "nbformat": 4,
  "nbformat_minor": 0,
  "metadata": {
    "colab": {
      "provenance": [],
      "authorship_tag": "ABX9TyMd2RAWKxgxtDCkHWF4c366",
      "include_colab_link": true
    },
    "kernelspec": {
      "name": "python3",
      "display_name": "Python 3"
    },
    "language_info": {
      "name": "python"
    }
  },
  "cells": [
    {
      "cell_type": "markdown",
      "metadata": {
        "id": "view-in-github",
        "colab_type": "text"
      },
      "source": [
        "<a href=\"https://colab.research.google.com/github/Himabindu-2006/pythontasks/blob/main/task_4a_4b_4c_4d_py.ipynb\" target=\"_parent\"><img src=\"https://colab.research.google.com/assets/colab-badge.svg\" alt=\"Open In Colab\"/></a>"
      ]
    },
    {
      "cell_type": "code",
      "execution_count": null,
      "metadata": {
        "id": "tkuepuvP2goz"
      },
      "outputs": [],
      "source": [
        "n = int(input())\n",
        "lst = []\n",
        "\n",
        "for _ in range(n):\n",
        "    cmd = input().split()\n",
        "    if cmd[0] == \"insert\":\n",
        "        lst.insert(int(cmd[1]), int(cmd[2]))\n",
        "    elif cmd[0] == \"print\":\n",
        "        print(lst)\n",
        "    elif cmd[0] == \"remove\":\n",
        "        lst.remove(int(cmd[1]))\n",
        "    elif cmd[0] == \"append\":\n",
        "        lst.append(int(cmd[1]))\n",
        "    elif cmd[0] == \"sort\":\n",
        "        lst.sort()\n",
        "    elif cmd[0] == \"pop\":\n",
        "        lst.pop()\n",
        "    elif cmd[0] == \"reverse\":\n",
        "        lst.reverse()\n",
        "\n",
        "records = []\n",
        "n = int(input())\n",
        "\n",
        "for _ in range(n):\n",
        "    name = input()\n",
        "    score = float(input())\n",
        "    records.append([name, score])\n",
        "\n",
        "scores = sorted(set([score for name, score in records]))\n",
        "second_lowest = scores[1]\n",
        "\n",
        "second_lowest_students = [name for name, score in records if score == second_lowest]\n",
        "second_lowest_students.sort()\n",
        "\n",
        "for name in second_lowest_students:\n",
        "    print(name)\n",
        "\n",
        "\n",
        "n = int(input())\n",
        "t = tuple(map(int, input().split()))\n",
        "print(hash(t))\n",
        "\n",
        "T = int(input())\n",
        "for _ in range(T):\n",
        "    s = input()\n",
        "    count_a = s.count('a')\n",
        "    count_b = s.count('b')\n",
        "    print(min(count_a, count_b))\n",
        "\n"
      ]
    }
  ]
}