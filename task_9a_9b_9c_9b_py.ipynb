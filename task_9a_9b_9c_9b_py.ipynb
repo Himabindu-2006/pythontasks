{
  "nbformat": 4,
  "nbformat_minor": 0,
  "metadata": {
    "colab": {
      "provenance": [],
      "authorship_tag": "ABX9TyN8NSUP2b0S0wXZunfYclDo",
      "include_colab_link": true
    },
    "kernelspec": {
      "name": "python3",
      "display_name": "Python 3"
    },
    "language_info": {
      "name": "python"
    }
  },
  "cells": [
    {
      "cell_type": "markdown",
      "metadata": {
        "id": "view-in-github",
        "colab_type": "text"
      },
      "source": [
        "<a href=\"https://colab.research.google.com/github/Himabindu-2006/pythontasks/blob/main/task_9a_9b_9c_9b_py.ipynb\" target=\"_parent\"><img src=\"https://colab.research.google.com/assets/colab-badge.svg\" alt=\"Open In Colab\"/></a>"
      ]
    },
    {
      "cell_type": "code",
      "execution_count": null,
      "metadata": {
        "id": "bJTXZ_CbWEzI"
      },
      "outputs": [],
      "source": [
        "age_input = input(\"Enter your age: \")\n",
        "age = int(age_input)\n",
        "print(\"Your age is:\", age)\n",
        "\n",
        "seats = [\n",
        "    [\"A1\", \"Section 1\", \"Available\"],\n",
        "    [\"A2\", \"Section 1\", \"Available\"],\n",
        "    [\"B1\", \"Section 2\", \"Booked\"],\n",
        "    [\"B2\", \"Section 2\", \"Available\"]\n",
        "]\n",
        "\n",
        "index = int(input(\"Enter the seat index to view or book (0-3): \"))\n",
        "\n",
        "try:\n",
        "    seat = seats[index]\n",
        "    print(\"Seat details:\", seat)\n",
        "    if seat[2] == \"Available\":\n",
        "        seat[2] = \"Booked\"\n",
        "        print(\"Seat has been marked as booked.\")\n",
        "    else:\n",
        "        print(\"Seat is already booked.\")\n",
        "except IndexError:\n",
        "    print(\"Invalid seat index. Please enter a number between 0 and\", len(seats) - 1)\n",
        "\n",
        "\n",
        "try:\n",
        "    with open(\"config.txt\", \"r\") as file:\n",
        "        contents = file.read()\n",
        "        print(\"Configuration File Contents:\")\n",
        "        print(contents)\n",
        "except FileNotFoundError:\n",
        "    print(\"Error: config.txt file not found.\")\n",
        "\n",
        "\n",
        "\n",
        "try:\n",
        "    initial_investment = float(input(\"Enter the initial investment amount: \"))\n",
        "    final_value = float(input(\"Enter the final value of the investment: \"))\n",
        "    roi = (final_value - initial_investment) / initial_investment * 100\n",
        "    print(f\"Return on Investment (ROI): {roi:.2f}%\")\n",
        "except ValueError:\n",
        "    print(\"Invalid input: Please enter a valid numeric value for investment amounts.\")\n",
        "except ZeroDivisionError:\n",
        "    print(\"Error: Initial investment amount cannot be zero.\")\n",
        "except Exception as e:\n",
        "    print(f\"An unexpected error occurred: {e}\")\n",
        "\n",
        "\n",
        "\n",
        "\n",
        "\n",
        "\n",
        "\n",
        "\n"
      ]
    }
  ]
}